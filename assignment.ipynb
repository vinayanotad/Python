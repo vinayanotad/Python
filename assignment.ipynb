{
 "cells": [
  {
   "attachments": {},
   "cell_type": "markdown",
   "metadata": {},
   "source": [
    "$$\n",
    "***ASSIGNMENT.ON.LIST***\n",
    "$$\n"
   ]
  },
  {
   "cell_type": "code",
   "execution_count": 1,
   "metadata": {},
   "outputs": [
    {
     "name": "stdout",
     "output_type": "stream",
     "text": [
      "4\n",
      "10\n",
      "2\n"
     ]
    }
   ],
   "source": [
    "List = [1, 2, 3, 1, 2, 1, 2, 3, 2, 1]\n",
    "print(List.count(1))\n",
    "\n",
    "print(len(List))\n",
    "\n",
    "print(List.index(3))\n"
   ]
  },
  {
   "cell_type": "code",
   "execution_count": 3,
   "metadata": {},
   "outputs": [
    {
     "name": "stdout",
     "output_type": "stream",
     "text": [
      "Length of the list: 5\n",
      "[1, 2, 3, 4, 5]\n",
      "5\n",
      "[1, 2, 3, 4, 6]\n",
      "16\n"
     ]
    }
   ],
   "source": [
    "\n",
    "numbers = [3, 5, 2, 1, 4]\n",
    "\n",
    "print(\"Length of the list:\", len(numbers))\n",
    "\n",
    "\n",
    "numbers.sort()\n",
    "print(numbers)\n",
    "\n",
    "last_number = numbers.pop()\n",
    "print(last_number)\n",
    "\n",
    "\n",
    "numbers.append(6)\n",
    "print(numbers)\n",
    "\n",
    "print(sum(numbers))"
   ]
  },
  {
   "cell_type": "code",
   "execution_count": 2,
   "metadata": {},
   "outputs": [
    {
     "name": "stdout",
     "output_type": "stream",
     "text": [
      "List elements after deleting are : 2 1 3 8 \n"
     ]
    }
   ],
   "source": [
    "lis = [2, 1, 3, 5, 4, 3, 8]\n",
    "del lis[2 : 5]\n",
    "print (\"List elements after deleting are : \",end=\"\")\n",
    "for i in range(0, len(lis)):\n",
    "    print(lis[i], end=\" \")  \n",
    "print(\"\\r\")\n",
    "  "
   ]
  },
  {
   "attachments": {},
   "cell_type": "markdown",
   "metadata": {},
   "source": [
    "$$\n",
    "ASSIGNMENT.ON.SETS\n",
    "$$"
   ]
  },
  {
   "cell_type": "code",
   "execution_count": 4,
   "metadata": {},
   "outputs": [
    {
     "name": "stdout",
     "output_type": "stream",
     "text": [
      "{1, 2, 3, 4, 5}\n",
      "{4, 5, 6, 7, 8}\n",
      "{1, 2, 3, 4, 5, 6}\n",
      "{1, 2, 3, 4, 5, 6, 7, 8, 9}\n",
      "{1, 2, 4, 5, 6, 7, 8, 9}\n",
      "{1, 2, 4, 5, 6, 7, 8, 9}\n",
      "{2, 4, 5, 6, 7, 8, 9}\n",
      "set()\n"
     ]
    }
   ],
   "source": [
    "set1 = {1, 2, 3, 4, 5} \n",
    "set2 = set([4, 5, 6, 7, 8])\n",
    "\n",
    "print(set1)\n",
    "print(set2)\n",
    "\n",
    "set1.add(6) \n",
    "print(set1)\n",
    "\n",
    "set1.update([7, 8, 9])\n",
    "print(set1)\n",
    "            \n",
    "set1.remove(3) \n",
    "print(set1)\n",
    "\n",
    "set1.discard(10)\n",
    "print(set1) \n",
    "\n",
    "set1.pop()\n",
    "print(set1) \n",
    "\n",
    "set1.clear()\n",
    "print(set1) \n",
    "\n"
   ]
  },
  {
   "cell_type": "code",
   "execution_count": 5,
   "metadata": {},
   "outputs": [
    {
     "name": "stdout",
     "output_type": "stream",
     "text": [
      "{4, 5, 6, 7, 8}\n",
      "{1, 2, 3, 4, 5}\n",
      "{1, 2, 3, 4, 5, 6, 7, 8}\n",
      "{4, 5}\n",
      "{1, 2, 3}\n",
      "{1, 2, 3, 6, 7, 8}\n"
     ]
    }
   ],
   "source": [
    "set1 = {1, 2, 3, 4, 5}\n",
    "set2 = {4, 5, 6, 7, 8}\n",
    "\n",
    "print(set2)\n",
    "print(set1)\n",
    "\n",
    "set3 = set1.union(set2)\n",
    "print(set3)\n",
    "\n",
    "set4 = set1.intersection(set2)\n",
    "print(set4)\n",
    "\n",
    "set5 = set1.difference(set2)\n",
    "print(set5)\n",
    "\n",
    "set6 = set1.symmetric_difference(set2)\n",
    "print(set6)"
   ]
  },
  {
   "cell_type": "code",
   "execution_count": 10,
   "metadata": {},
   "outputs": [
    {
     "name": "stdout",
     "output_type": "stream",
     "text": [
      "{1, 2, 3, 4, 5}\n",
      "5\n",
      "True\n",
      "{1, 2, 3, 4, 5}\n",
      "set()\n"
     ]
    }
   ],
   "source": [
    "set1 = {1, 2, 3, 4, 5}\n",
    "print(set1)\n",
    "\n",
    "print(len(set1))\n",
    "\n",
    "print(4 in set1)  # returns True if 4 is present in the set, else False\n",
    "\n",
    "print(set1.copy())  # returns a copy of the set\n",
    "\n",
    "set1.clear() \n",
    "print(set1)"
   ]
  }
 ],
 "metadata": {
  "kernelspec": {
   "display_name": "Python 3",
   "language": "python",
   "name": "python3"
  },
  "language_info": {
   "codemirror_mode": {
    "name": "ipython",
    "version": 3
   },
   "file_extension": ".py",
   "mimetype": "text/x-python",
   "name": "python",
   "nbconvert_exporter": "python",
   "pygments_lexer": "ipython3",
   "version": "3.11.2"
  },
  "orig_nbformat": 4,
  "vscode": {
   "interpreter": {
    "hash": "1f6a27bcfbe46a917dbd192f4a82657396dda26148bae633192e8d28c70725f1"
   }
  }
 },
 "nbformat": 4,
 "nbformat_minor": 2
}
