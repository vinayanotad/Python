{
 "cells": [
  {
   "cell_type": "code",
   "execution_count": 1,
   "metadata": {},
   "outputs": [
    {
     "name": "stdout",
     "output_type": "stream",
     "text": [
      "Enter principal amount:\n",
      "Enter interest rate (per annum):\n"
     ]
    },
    {
     "ename": "ValueError",
     "evalue": "could not convert string to float: ''",
     "output_type": "error",
     "traceback": [
      "\u001b[1;31m---------------------------------------------------------------------------\u001b[0m",
      "\u001b[1;31mValueError\u001b[0m                                Traceback (most recent call last)",
      "Cell \u001b[1;32mIn[1], line 5\u001b[0m\n\u001b[0;32m      2\u001b[0m principal \u001b[39m=\u001b[39m \u001b[39mfloat\u001b[39m(\u001b[39minput\u001b[39m())\n\u001b[0;32m      4\u001b[0m \u001b[39mprint\u001b[39m(\u001b[39m\"\u001b[39m\u001b[39mEnter interest rate (per annum):\u001b[39m\u001b[39m\"\u001b[39m)\n\u001b[1;32m----> 5\u001b[0m interest_rate \u001b[39m=\u001b[39m \u001b[39mfloat\u001b[39;49m(\u001b[39minput\u001b[39;49m())\n\u001b[0;32m      7\u001b[0m \u001b[39mprint\u001b[39m(\u001b[39m\"\u001b[39m\u001b[39mEnter time period (in years):\u001b[39m\u001b[39m\"\u001b[39m)\n\u001b[0;32m      8\u001b[0m time \u001b[39m=\u001b[39m \u001b[39mfloat\u001b[39m(\u001b[39minput\u001b[39m())\n",
      "\u001b[1;31mValueError\u001b[0m: could not convert string to float: ''"
     ]
    }
   ],
   "source": [
    "print(\" Enter principal amount:\")\n",
    "principal = float(input())\n",
    "\n",
    "print(\"Enter interest rate (per annum):\")\n",
    "interest_rate = float(input())\n",
    "\n",
    "print(\"Enter time period (in years):\")\n",
    "time = float(input())\n",
    "\n",
    "print(\"Enter number of down payment cases:\")\n",
    "num_down_payments = int(input())\n",
    "\n",
    "down_payments = []\n",
    "for i in range(num_down_payments):\n",
    "    print(f\"Enter down payment for case {i+1}:\")\n",
    "    down_payments.append(float(input()))\n",
    "\n",
    "for down_payment in down_payments:\n",
    "    loan_amount = principal - down_payment  # Loan amount\n",
    "    r = interest_rate / (12 * 100)  # Monthly interest rate\n",
    "    n = time * 12  # Number of months\n",
    "    emi = (loan_amount * r * (1 + r) ** n) / ((1 + r) ** n - 1)  # EMI formula\n",
    "    num_installments = time * 12  # Number of installments\n",
    "    total_amount = emi * num_installments  # Total amount paid\n",
    "    interest = total_amount - loan_amount  # Interest paid\n",
    "    profit = total_amount - principal  # Profit earned\n",
    "\n",
    "    print(\"\\n-------------------------\")\n",
    "    print(f\"Down payment: {down_payment}\")\n",
    "    print(f\"EMI: {round(emi, 2)}\")\n",
    "    print(f\"Number of installments: {num_installments}\")\n",
    "    print(f\"Total amount paid: {round(total_amount, 2)}\")\n",
    "    print(f\"Total interest paid: {round(interest, 2)}\")\n",
    "    print(f\"Total profit earned: {round(profit, 2)}\")\n"
   ]
  },
  {
   "cell_type": "code",
   "execution_count": 2,
   "metadata": {},
   "outputs": [
    {
     "name": "stdout",
     "output_type": "stream",
     "text": [
      "Loan amount:  1000000.0\n",
      "EMI:  402114.8\n",
      "Profit:  150000.0\n",
      "Interest:  300000.0\n",
      "Number of installments:  36\n",
      "Total amount paid:  14476132.93\n"
     ]
    }
   ],
   "source": [
    "# Python program to calculate EMI, profit, interest, number of installments, and total amount paid on a product with different down payment\n",
    "\n",
    "# Taking input values from user\n",
    "principal = float(input(\"Enter the principal amount: \"))\n",
    "rate = float(input(\"Enter the interest rate (in percentage): \"))\n",
    "time = float(input(\"Enter the time period (in years): \"))\n",
    "down_payment = float(input(\"Enter the down payment amount: \"))\n",
    "\n",
    "# Calculating loan amount\n",
    "loan_amount = principal - down_payment\n",
    "\n",
    "# Calculating interest and profit\n",
    "interest = (loan_amount * rate * time) / 100\n",
    "profit = interest / 2\n",
    "\n",
    "# Calculating EMI\n",
    "numerator = (rate / 100) * pow(1 + (rate / 100), time)\n",
    "denominator = pow(1 + (rate / 100), time) - 1\n",
    "emi = loan_amount * (numerator / denominator)\n",
    "\n",
    "# Calculating number of installments\n",
    "num_installments = round(time * 12)\n",
    "\n",
    "# Calculating total amount paid\n",
    "total_amount_paid = emi * num_installments + down_payment\n",
    "\n",
    "# Displaying the results\n",
    "print(\"Loan amount: \", loan_amount)\n",
    "print(\"EMI: \", round(emi, 2))\n",
    "print(\"Profit: \", round(profit, 2))\n",
    "print(\"Interest: \", round(interest, 2))\n",
    "print(\"Number of installments: \", num_installments)\n",
    "print(\"Total amount paid: \", round(total_amount_paid,2))"
   ]
  },
  {
   "cell_type": "code",
   "execution_count": 8,
   "metadata": {},
   "outputs": [
    {
     "name": "stdout",
     "output_type": "stream",
     "text": [
      "Enter cost of product:\n",
      "Enter interest rate (per annum):\n",
      "Enter time period (in years):\n",
      "Enter down payment (0 if none):\n"
     ]
    },
    {
     "ename": "NameError",
     "evalue": "name 'n' is not defined",
     "output_type": "error",
     "traceback": [
      "\u001b[1;31m---------------------------------------------------------------------------\u001b[0m",
      "\u001b[1;31mNameError\u001b[0m                                 Traceback (most recent call last)",
      "Cell \u001b[1;32mIn[8], line 47\u001b[0m\n\u001b[0;32m     44\u001b[0m         \u001b[39mprint\u001b[39m(\u001b[39m\"\u001b[39m\u001b[39mNo profit or loss.\u001b[39m\u001b[39m\"\u001b[39m)\n\u001b[0;32m     46\u001b[0m \u001b[39mif\u001b[39;00m \u001b[39m__name__\u001b[39m \u001b[39m==\u001b[39m \u001b[39m'\u001b[39m\u001b[39m__main__\u001b[39m\u001b[39m'\u001b[39m:\n\u001b[1;32m---> 47\u001b[0m     main()\n",
      "Cell \u001b[1;32mIn[8], line 33\u001b[0m, in \u001b[0;36mmain\u001b[1;34m()\u001b[0m\n\u001b[0;32m     30\u001b[0m \u001b[39mprint\u001b[39m(\u001b[39m\"\u001b[39m\u001b[39mEnter down payment (0 if none):\u001b[39m\u001b[39m\"\u001b[39m)\n\u001b[0;32m     31\u001b[0m down_payment \u001b[39m=\u001b[39m \u001b[39mfloat\u001b[39m(\u001b[39minput\u001b[39m())\n\u001b[1;32m---> 33\u001b[0m profit, loss, interest, total_amount_paid, emi, num_installments \u001b[39m=\u001b[39m calculate_profit_loss_and_interest(principal, down_payment, interest_rate, time)\n\u001b[0;32m     35\u001b[0m \u001b[39mprint\u001b[39m(\u001b[39m\"\u001b[39m\u001b[39mEMI:\u001b[39m\u001b[39m\"\u001b[39m, \u001b[39mround\u001b[39m(emi, \u001b[39m2\u001b[39m))\n\u001b[0;32m     36\u001b[0m \u001b[39mprint\u001b[39m(\u001b[39m\"\u001b[39m\u001b[39mTotal interest paid:\u001b[39m\u001b[39m\"\u001b[39m, \u001b[39mround\u001b[39m(interest, \u001b[39m2\u001b[39m))\n",
      "Cell \u001b[1;32mIn[8], line 20\u001b[0m, in \u001b[0;36mcalculate_profit_loss_and_interest\u001b[1;34m(principal, down_payment, interest_rate, time)\u001b[0m\n\u001b[0;32m     18\u001b[0m     profit \u001b[39m=\u001b[39m \u001b[39m0\u001b[39m  \u001b[39m# no profit\u001b[39;00m\n\u001b[0;32m     19\u001b[0m     loss \u001b[39m=\u001b[39m principal \u001b[39m-\u001b[39m total_amount  \u001b[39m# loss incurred\u001b[39;00m\n\u001b[1;32m---> 20\u001b[0m \u001b[39mreturn\u001b[39;00m profit, loss, interest, total_amount, emi, n\n",
      "\u001b[1;31mNameError\u001b[0m: name 'n' is not defined"
     ]
    }
   ],
   "source": [
    "# function to calculate EMI\n",
    "def calculate_emi(principal, interest_rate, time):\n",
    "    r = interest_rate / (12 * 100)  # monthly interest rate\n",
    "    n = time * 12  # number of months\n",
    "    emi = (principal * r * (1 + r) ** n) / ((1 + r) ** n - 1)  # EMI formula\n",
    "    return emi\n",
    "\n",
    "# function to calculate profit/loss and interest\n",
    "def calculate_profit_loss_and_interest(principal, down_payment, interest_rate, time):\n",
    "    loan_amount = principal - down_payment  # loan amount\n",
    "    emi = calculate_emi(loan_amount, interest_rate, time)  # EMI\n",
    "    total_amount = emi * time * 12  # total amount paid\n",
    "    interest = total_amount - loan_amount  # interest paid\n",
    "    if total_amount > principal:\n",
    "        profit = total_amount - principal  # profit earned\n",
    "        loss = 0  # no loss\n",
    "    else:\n",
    "        profit = 0  # no profit\n",
    "        loss = principal - total_amount  # loss incurred\n",
    "    return profit, loss, interest, total_amount, emi, n\n",
    "\n",
    "# main function to get user inputs and call functions\n",
    "def main():\n",
    "    print(\"Enter cost of product:\")\n",
    "    principal = float(input())\n",
    "    print(\"Enter interest rate (per annum):\")\n",
    "    interest_rate = float(input())\n",
    "    print(\"Enter time period (in years):\")\n",
    "    time = float(input())\n",
    "    print(\"Enter down payment (0 if none):\")\n",
    "    down_payment = float(input())\n",
    "\n",
    "    profit, loss, interest, total_amount_paid, emi, num_installments = calculate_profit_loss_and_interest(principal, down_payment, interest_rate, time)\n",
    "\n",
    "    print(\"EMI:\", round(emi, 2))\n",
    "    print(\"Total interest paid:\", round(interest, 2))\n",
    "    print(\"Total amount paid:\", round(total_amount_paid, 2))\n",
    "    print(\"Number of installments:\", num_installments)\n",
    "    if profit > 0:\n",
    "        print(\"Profit earned:\", round(profit, 2))\n",
    "    elif loss > 0:\n",
    "        print(\"Loss incurred:\", round(loss, 2))\n",
    "    else:\n",
    "        print(\"No profit or loss.\")\n",
    "\n",
    "if __name__ == '__main__':\n",
    "    main()\n"
   ]
  },
  {
   "cell_type": "code",
   "execution_count": 1,
   "metadata": {},
   "outputs": [
    {
     "ename": "AttributeError",
     "evalue": "module 'tkinter' has no attribute 'tkinter'",
     "output_type": "error",
     "traceback": [
      "\u001b[1;31m---------------------------------------------------------------------------\u001b[0m",
      "\u001b[1;31mAttributeError\u001b[0m                            Traceback (most recent call last)",
      "Cell \u001b[1;32mIn[1], line 3\u001b[0m\n\u001b[0;32m      1\u001b[0m \u001b[39mimport\u001b[39;00m \u001b[39mtkinter\u001b[39;00m\n\u001b[1;32m----> 3\u001b[0m main_window \u001b[39m=\u001b[39m tkinter\u001b[39m.\u001b[39;49mtkinter()\n\u001b[0;32m      4\u001b[0m main_window\u001b[39m.\u001b[39mtitle(\u001b[39m\"\u001b[39m\u001b[39mEMI Calculator using Python\u001b[39m\u001b[39m\"\u001b[39m)\n\u001b[0;32m      5\u001b[0m main_window\u001b[39m.\u001b[39mmainloop()\n",
      "\u001b[1;31mAttributeError\u001b[0m: module 'tkinter' has no attribute 'tkinter'"
     ]
    }
   ],
   "source": [
    "import tkinter\n",
    "\n",
    "main_window = tkinter.tkinter()\n",
    "main_window.title(\"EMI Calculator using Python\")\n",
    "main_window.mainloop()\n"
   ]
  }
 ],
 "metadata": {
  "kernelspec": {
   "display_name": "Python 3",
   "language": "python",
   "name": "python3"
  },
  "language_info": {
   "codemirror_mode": {
    "name": "ipython",
    "version": 3
   },
   "file_extension": ".py",
   "mimetype": "text/x-python",
   "name": "python",
   "nbconvert_exporter": "python",
   "pygments_lexer": "ipython3",
   "version": "3.11.2"
  },
  "orig_nbformat": 4
 },
 "nbformat": 4,
 "nbformat_minor": 2
}
