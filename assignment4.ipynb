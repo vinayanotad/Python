{
 "cells": [
  {
   "attachments": {},
   "cell_type": "markdown",
   "metadata": {},
   "source": [
    "$$\n",
    "write .a .program. to. find .the. compound interest.\n",
    "$$"
   ]
  },
  {
   "cell_type": "code",
   "execution_count": 2,
   "metadata": {},
   "outputs": [
    {
     "name": "stdout",
     "output_type": "stream",
     "text": [
      "Compound interest is: 1392.3\n"
     ]
    }
   ],
   "source": [
    "def compound_interest(principal, rate, time):\n",
    "    amount = principal * (1 + rate/100) ** time\n",
    "    interest = amount - principal\n",
    "    return interest\n",
    "\n",
    "principal = float(input(\"Enter the principal amount: \"))\n",
    "rate = float(input(\"Enter the rate of interest: \"))\n",
    "time = float(input(\"Enter the time period in years: \"))\n",
    "\n",
    "interest = compound_interest(principal, rate, time)\n",
    "\n",
    "print(\"Compound interest is:\",round(interest, 2))\n"
   ]
  },
  {
   "attachments": {},
   "cell_type": "markdown",
   "metadata": {},
   "source": [
    "$$\n",
    "Write .a. program. to .find. the. simple. interest\n",
    "\n",
    "$$"
   ]
  },
  {
   "cell_type": "code",
   "execution_count": 1,
   "metadata": {},
   "outputs": [
    {
     "name": "stdout",
     "output_type": "stream",
     "text": [
      "Simple interest is: 10800.0\n"
     ]
    }
   ],
   "source": [
    "def simple_interest(principal, rate, time):\n",
    "    interest = (principal * rate * time) / 100\n",
    "    return interest\n",
    "\n",
    "principal = float(input(\"Enter the principal amount: \"))\n",
    "rate = float(input(\"Enter the rate of interest: \"))\n",
    "time = float(input(\"Enter the time period in years: \"))\n",
    "\n",
    "interest = simple_interest(principal, rate, time)\n",
    "\n",
    "print(\"Simple interest is:\", round(interest, 2))"
   ]
  },
  {
   "attachments": {},
   "cell_type": "markdown",
   "metadata": {},
   "source": [
    "$$\n",
    "Program.to.find.area.of.circle \n",
    "$$"
   ]
  },
  {
   "cell_type": "code",
   "execution_count": 14,
   "metadata": {},
   "outputs": [
    {
     "name": "stdout",
     "output_type": "stream",
     "text": [
      "The area of the circle with radius 3.0 is 28.26\n"
     ]
    }
   ],
   "source": [
    "radius = float(input(\"Enter the radius of the circle: \"))\n",
    "pi=3.14\n",
    "area = pi * (radius ** 2)\n",
    "print(f\"The area of the circle with radius {radius} is {area:.2f}\")\n",
    "    "
   ]
  },
  {
   "attachments": {},
   "cell_type": "markdown",
   "metadata": {},
   "source": [
    "$$\n",
    "Program.to. Swap .Two .Variable\n",
    "$$"
   ]
  },
  {
   "cell_type": "code",
   "execution_count": 20,
   "metadata": {},
   "outputs": [
    {
     "name": "stdout",
     "output_type": "stream",
     "text": [
      "Before swapping, the value of a is 2 and the value of b is 3\n",
      "After swapping, the value of a is 3 and the value of b is 2\n"
     ]
    }
   ],
   "source": [
    "a = input(\"Enter value of variable a: \")\n",
    "b = input(\"Enter value of variable b: \")\n",
    "\n",
    "print(\"Before swapping, the value of a is\", a, \"and the value of b is\", b)\n",
    "temp = a\n",
    "a = b\n",
    "b = temp\n",
    "\n",
    "print(\"After swapping, the value of a is\", a, \"and the value of b is\", b)"
   ]
  },
  {
   "attachments": {},
   "cell_type": "markdown",
   "metadata": {},
   "source": [
    "$$\n",
    "Program.to.generate.a.Random.Number\n",
    "$$"
   ]
  },
  {
   "cell_type": "code",
   "execution_count": 21,
   "metadata": {},
   "outputs": [
    {
     "name": "stdout",
     "output_type": "stream",
     "text": [
      "The random number generated is: 7\n"
     ]
    }
   ],
   "source": [
    "import random\n",
    "\n",
    "start = int(input(\"Enter the starting number of the range: \"))\n",
    "end = int(input(\"Enter the ending number of the range: \"))\n",
    "\n",
    "random_number = random.randint(start, end)\n",
    "\n",
    "print(\"The random number generated is:\", random_number)\n"
   ]
  },
  {
   "cell_type": "code",
   "execution_count": 22,
   "metadata": {},
   "outputs": [
    {
     "name": "stdout",
     "output_type": "stream",
     "text": [
      "The random number is: 46\n"
     ]
    }
   ],
   "source": [
    "import random\n",
    "\n",
    "random_number = random.randint(1, 100)\n",
    "\n",
    "print(\"The random number is:\", random_number)"
   ]
  },
  {
   "attachments": {},
   "cell_type": "markdown",
   "metadata": {},
   "source": [
    "$$\n",
    "Program .to. convert. Kilometers .to. Miles\n",
    "$$"
   ]
  },
  {
   "cell_type": "code",
   "execution_count": 1,
   "metadata": {},
   "outputs": [
    {
     "name": "stdout",
     "output_type": "stream",
     "text": [
      "5.0 kilometers is equal to 3.106855 miles.\n"
     ]
    }
   ],
   "source": [
    "kilometers = float(input(\"Enter the distance in kilometers: \"))\n",
    "\n",
    "# conversion factor\n",
    "conv_fac = 0.621371\n",
    "\n",
    "# calculate miles\n",
    "miles = kilometers * conv_fac\n",
    "\n",
    "print(f\"{kilometers} kilometers is equal to {miles} miles.\")\n"
   ]
  },
  {
   "attachments": {},
   "cell_type": "markdown",
   "metadata": {},
   "source": [
    "$$\n",
    ".Python. Program .to. Check. if. a. Number. is. Positive,. Negative .or. 0\n",
    "$$"
   ]
  },
  {
   "cell_type": "code",
   "execution_count": 5,
   "metadata": {},
   "outputs": [
    {
     "name": "stdout",
     "output_type": "stream",
     "text": [
      "Entered number is Negative\n"
     ]
    }
   ],
   "source": [
    "num=int(input(\"Enter the number:\"))\n",
    "\n",
    "if (num>0):\n",
    "    print(\"Entered number is Positive\")\n",
    "    \n",
    "elif(num<0):\n",
    "    print(\"Entered number is Negative\")\n",
    "    \n",
    "else:\n",
    "    print(\"Entered number is equal to zero\")     "
   ]
  },
  {
   "attachments": {},
   "cell_type": "markdown",
   "metadata": {},
   "source": [
    "$$\n",
    "*Python .Program .to .Check. if .a .Number .is .Odd. or. Even*\n",
    "$$"
   ]
  },
  {
   "cell_type": "code",
   "execution_count": 9,
   "metadata": {},
   "outputs": [
    {
     "name": "stdout",
     "output_type": "stream",
     "text": [
      "Entered number is ODD\n"
     ]
    }
   ],
   "source": [
    "num=int(input(\"Enter the Number:\"))\n",
    "\n",
    "if(num%2==0):\n",
    "    print(\"Entered number is EVEN\")\n",
    "    \n",
    "else:\n",
    "    print(\"Entered number is ODD\")    "
   ]
  },
  {
   "attachments": {},
   "cell_type": "markdown",
   "metadata": {},
   "source": [
    "$$\n",
    ".Python. Program. to. Find. the. Largest. Among. Three. Numbers\n",
    "$$"
   ]
  },
  {
   "cell_type": "code",
   "execution_count": 20,
   "metadata": {},
   "outputs": [
    {
     "name": "stdout",
     "output_type": "stream",
     "text": [
      "b is the largest\n"
     ]
    }
   ],
   "source": [
    "a=float(input(\"Enter the value of a:\"))\n",
    "b=float(input(\"Enter the value of b:\"))\n",
    "c=float(input(\"Enter the value of c:\"))\n",
    "\n",
    "if(a>b):\n",
    "    if(a>c):\n",
    "        print(\"a is the largest\")\n",
    "        \n",
    "elif(b>c):\n",
    "    if(b>a):\n",
    "        print(\"b is the largest\")\n",
    "\n",
    "else:\n",
    "    print(\"c is the largest\")                "
   ]
  },
  {
   "cell_type": "code",
   "execution_count": 21,
   "metadata": {},
   "outputs": [
    {
     "name": "stdout",
     "output_type": "stream",
     "text": [
      "The largest number is 87654.0.\n"
     ]
    }
   ],
   "source": [
    "num1 = float(input(\"Enter the first number: \"))\n",
    "num2 = float(input(\"Enter the second number: \"))\n",
    "num3 = float(input(\"Enter the third number: \"))\n",
    "\n",
    "if num1 > num2 and num1 > num3:\n",
    "    largest = num1\n",
    "elif num2 > num1 and num2 > num3:\n",
    "    largest = num2\n",
    "else:\n",
    "    largest = num3\n",
    "\n",
    "print(f\"The largest number is {largest}.\")"
   ]
  },
  {
   "attachments": {},
   "cell_type": "markdown",
   "metadata": {},
   "source": [
    "\n",
    "### Python  Program to Check Prime Number\n"
   ]
  },
  {
   "cell_type": "code",
   "execution_count": 3,
   "metadata": {},
   "outputs": [
    {
     "name": "stdout",
     "output_type": "stream",
     "text": [
      "1 is not a prime number\n"
     ]
    }
   ],
   "source": [
    "num=int(input(\"Enter the number:\"))\n",
    "\n",
    "# A number is prime if it is greater than 1 and has no positive divisors other than 1 and itself\n",
    "if num > 1:\n",
    "    for i in range(2, num):\n",
    "        if (num % i) == 0:\n",
    "            print(num, \"is not a prime number\")\n",
    "            break\n",
    "    else:\n",
    "        print(num, \"is a prime number\")\n",
    "else:\n",
    "    print(num, \"is not a prime number\")\n"
   ]
  },
  {
   "cell_type": "code",
   "execution_count": 18,
   "metadata": {},
   "outputs": [
    {
     "data": {
      "text/plain": [
       "True"
      ]
     },
     "execution_count": 18,
     "metadata": {},
     "output_type": "execute_result"
    }
   ],
   "source": [
    "def is_prime(num):\n",
    "    \"\"\"Return True if a number is prime, False otherwise.\"\"\"\n",
    "    if num < 2:                             # 0 and 1 are not primes\n",
    "        return False\n",
    "    for i in range(2, int(num ** 0.5) + 1):\n",
    "        if num % i == 0:\n",
    "            return False\n",
    "        else:\n",
    "            return True\n",
    "        \n",
    "is_prime(53)       "
   ]
  },
  {
   "attachments": {},
   "cell_type": "markdown",
   "metadata": {},
   "source": [
    "\n",
    "### Python Program to Print all Prime Numbers between 1 to 100\n",
    "\n"
   ]
  },
  {
   "cell_type": "code",
   "execution_count": 19,
   "metadata": {},
   "outputs": [
    {
     "name": "stdout",
     "output_type": "stream",
     "text": [
      "2\n",
      "3\n",
      "5\n",
      "7\n",
      "11\n",
      "13\n",
      "17\n",
      "19\n",
      "23\n",
      "29\n",
      "31\n",
      "37\n",
      "41\n",
      "43\n",
      "47\n",
      "53\n",
      "59\n",
      "61\n",
      "67\n",
      "71\n",
      "73\n",
      "79\n",
      "83\n",
      "89\n",
      "97\n"
     ]
    }
   ],
   "source": [
    "# loop through each number from 1 to 100\n",
    "for num in range(1, 101):\n",
    "\n",
    "    # prime numbers are greater than 1\n",
    "    if num > 1:\n",
    "        # check for factors\n",
    "        for i in range(2, num):\n",
    "            if (num % i) == 0:\n",
    "                break\n",
    "        else:\n",
    "            # if no factors found, the number is prime\n",
    "            print(num)\n"
   ]
  },
  {
   "attachments": {},
   "cell_type": "markdown",
   "metadata": {},
   "source": [
    "\n",
    "\n",
    "### Python Program to Find the Factorial of a Number"
   ]
  },
  {
   "cell_type": "code",
   "execution_count": 25,
   "metadata": {},
   "outputs": [
    {
     "name": "stdout",
     "output_type": "stream",
     "text": [
      "The factorial of 5 is 120\n"
     ]
    }
   ],
   "source": [
    "num = int(input(\"Enter a number: \"))\n",
    "factorial = 1\n",
    "\n",
    "for i in range(1,num + 1):\n",
    "        factorial = factorial*i\n",
    "print(\"The factorial of\",num,\"is\",factorial)"
   ]
  },
  {
   "cell_type": "code",
   "execution_count": 27,
   "metadata": {},
   "outputs": [
    {
     "name": "stdout",
     "output_type": "stream",
     "text": [
      "Sorry, factorial does not exist for negative numbers\n"
     ]
    }
   ],
   "source": [
    "num = int(input(\"Enter a number: \"))\n",
    "factorial = 1\n",
    "\n",
    "# check if the number is negative, zero or positive\n",
    "if num < 0:\n",
    "    print(\"Sorry, factorial does not exist for negative numbers\")\n",
    "elif num == 0:\n",
    "    print(\"The factorial of 0 is 1\")\n",
    "else:\n",
    "    for i in range(1,num + 1):\n",
    "        factorial = factorial*i\n",
    "    print(\"The factorial of\",num,\"is\",factorial)\n"
   ]
  },
  {
   "attachments": {},
   "cell_type": "markdown",
   "metadata": {},
   "source": [
    "\n",
    "\n",
    "### Python Program to Print the Fibonacci sequence\n",
    "\n"
   ]
  },
  {
   "cell_type": "code",
   "execution_count": 29,
   "metadata": {},
   "outputs": [
    {
     "name": "stdout",
     "output_type": "stream",
     "text": [
      "Fibonacci sequence:\n",
      "0\n",
      "1\n",
      "1\n",
      "2\n",
      "3\n",
      "5\n",
      "8\n"
     ]
    }
   ],
   "source": [
    "n = int(input(\"Enter the number of terms: \"))\n",
    "\n",
    "# first two terms\n",
    "a, b = 0, 1\n",
    "\n",
    "# check if the number of terms is valid\n",
    "if n <= 0:\n",
    "   print(\"Please enter a positive integer\")\n",
    "elif n == 1:\n",
    "   print(\"Fibonacci sequence upto\",n,\":\")\n",
    "   print(a)\n",
    "else:\n",
    "   print(\"Fibonacci sequence:\")\n",
    "   for i in range(n):\n",
    "       print(a)\n",
    "       c = a + b\n",
    "       # update values\n",
    "       a = b\n",
    "       b = c\n"
   ]
  },
  {
   "cell_type": "code",
   "execution_count": 32,
   "metadata": {},
   "outputs": [
    {
     "name": "stdout",
     "output_type": "stream",
     "text": [
      "0 1 1 2 3 5 8 13 21 34 "
     ]
    }
   ],
   "source": [
    "def fibonacci(n):\n",
    "    \"\"\"Print the Fibonacci sequence up to n terms.\"\"\"\n",
    "    a, b = 0, 1\n",
    "    for i in range(n):\n",
    "        print(a,end=' ')\n",
    "        a, b = b, a + b\n",
    "\n",
    "fibonacci(10)  # Prints the first 10 terms of the Fibonacci sequence"
   ]
  },
  {
   "attachments": {},
   "cell_type": "markdown",
   "metadata": {},
   "source": [
    "### # ## .Python Program to Find Numbers Divisible by Another Number"
   ]
  },
  {
   "cell_type": "code",
   "execution_count": 33,
   "metadata": {},
   "outputs": [
    {
     "name": "stdout",
     "output_type": "stream",
     "text": [
      "[7, 14, 21, 28, 35, 42, 49]\n"
     ]
    }
   ],
   "source": [
    "def find_divisible(start, end, divisor):\n",
    "    \"\"\"Find all numbers between start and end that are divisible by divisor.\"\"\"\n",
    "    result = []\n",
    "    for num in range(start, end+1):\n",
    "        if num % divisor == 0:\n",
    "            result.append(num)\n",
    "    return result\n",
    "\n",
    "\n",
    "divisible_nums = find_divisible(1, 50, 7)  # Finds all numbers between 1 and 50 that are divisible by 7\n",
    "print(divisible_nums)  # Prints [7, 14, 21, 28, 35, 42, 49]"
   ]
  },
  {
   "cell_type": "code",
   "execution_count": 34,
   "metadata": {},
   "outputs": [
    {
     "name": "stdout",
     "output_type": "stream",
     "text": [
      "Numbers divisible by 2 in the list: [2, 4]\n"
     ]
    }
   ],
   "source": [
    "# take input from the user\n",
    "num_list = input(\"Enter a list of numbers separated by space: \").split()\n",
    "divisor = int(input(\"Enter the divisor: \"))\n",
    "\n",
    "# convert the input numbers to integers\n",
    "num_list = [int(num) for num in num_list]\n",
    "\n",
    "# initialize an empty list to store the divisible numbers\n",
    "divisible_list = []\n",
    "\n",
    "# check each number in the list for divisibility\n",
    "for num in num_list:\n",
    "    if num % divisor == 0:\n",
    "        divisible_list.append(num)\n",
    "\n",
    "# print the list of divisible numbers\n",
    "print(\"Numbers divisible by\", divisor, \"in the list:\", divisible_list)\n"
   ]
  },
  {
   "attachments": {},
   "cell_type": "markdown",
   "metadata": {},
   "source": [
    "### Python Program to Convert Decimal to Binary, Octal and Hexadecimal"
   ]
  },
  {
   "cell_type": "code",
   "execution_count": 40,
   "metadata": {},
   "outputs": [
    {
     "name": "stdout",
     "output_type": "stream",
     "text": [
      "The decimal value of 2 is:\n",
      "0b10 in binary.\n",
      "0o2 in octal.\n",
      "0x2 in hexadecimal.\n"
     ]
    }
   ],
   "source": [
    "dec = int(input(\"Enter a decimal number: \"))\n",
    "\n",
    "print(\"The decimal value of\", dec, \"is:\")\n",
    "print(bin(dec), \"in binary.\")\n",
    "print(oct(dec), \"in octal.\")\n",
    "print(hex(dec), \"in hexadecimal.\")"
   ]
  },
  {
   "cell_type": "code",
   "execution_count": 38,
   "metadata": {},
   "outputs": [
    {
     "data": {
      "text/plain": [
       "('0b101010', '0o52', '0x2a')"
      ]
     },
     "execution_count": 38,
     "metadata": {},
     "output_type": "execute_result"
    }
   ],
   "source": [
    "def convert(number):\n",
    "    \"\"\"Convert a decimal number to binary, octal, and hexadecimal.\"\"\"\n",
    "    binary = bin(number)\n",
    "    octal = oct(number)\n",
    "    hexadecimal = hex(number)\n",
    "    return binary, octal, hexadecimal\n",
    "\n",
    "convert(42)  # Converts the decimal number 42 to binary, octal, and hexadecimal\n",
    " # Prints ('0b101010', '0o52', '0x2a')"
   ]
  },
  {
   "attachments": {},
   "cell_type": "markdown",
   "metadata": {},
   "source": [
    "### Python Program to Find ASCII Value of Character"
   ]
  },
  {
   "cell_type": "code",
   "execution_count": 43,
   "metadata": {},
   "outputs": [
    {
     "name": "stdout",
     "output_type": "stream",
     "text": [
      "The ASCII value of A is 65\n"
     ]
    }
   ],
   "source": [
    "char = input(\"Enter a character: \")\n",
    "\n",
    "# convert the character to its ASCII value using the ord() function\n",
    "ascii_value = ord(char)\n",
    "\n",
    "print(\"The ASCII value of\", char, \"is\", ascii_value)\n"
   ]
  },
  {
   "cell_type": "code",
   "execution_count": 45,
   "metadata": {},
   "outputs": [
    {
     "data": {
      "text/plain": [
       "65"
      ]
     },
     "execution_count": 45,
     "metadata": {},
     "output_type": "execute_result"
    }
   ],
   "source": [
    "def ascii_value(char):\n",
    "    return ord(char)\n",
    "\n",
    "ascii_value('A')"
   ]
  },
  {
   "attachments": {},
   "cell_type": "markdown",
   "metadata": {},
   "source": [
    "### Python Program to Find the Factors of a Number"
   ]
  },
  {
   "cell_type": "code",
   "execution_count": 46,
   "metadata": {},
   "outputs": [
    {
     "data": {
      "text/plain": [
       "[1, 2, 3, 4, 6, 12]"
      ]
     },
     "execution_count": 46,
     "metadata": {},
     "output_type": "execute_result"
    }
   ],
   "source": [
    "def find_factors(number):\n",
    "    \"\"\"Find all factors of a number.\"\"\"\n",
    "    factors = []\n",
    "    for i in range(1, number+1):\n",
    "        if number % i == 0:\n",
    "            factors.append(i)\n",
    "    return factors\n",
    "\n",
    "find_factors(12)  # Finds all factors of the number 12\n",
    " # Prints [1, 2, 3, 4, 6, 12]"
   ]
  },
  {
   "cell_type": "code",
   "execution_count": 48,
   "metadata": {},
   "outputs": [
    {
     "name": "stdout",
     "output_type": "stream",
     "text": [
      "The factors of 12 are: [1, 2, 3, 4, 6, 12]\n"
     ]
    }
   ],
   "source": [
    "\n",
    "num = int(input(\"Enter a number: \"))\n",
    "\n",
    "# initialize an empty list to store the factors\n",
    "factors = []\n",
    "\n",
    "# iterate over all possible factors of the number\n",
    "for i in range(1, num+1):\n",
    "    if num % i == 0:\n",
    "        factors.append(i)\n",
    "\n",
    "# print the factors\n",
    "print(\"The factors of\", num, \"are:\", factors)\n"
   ]
  },
  {
   "attachments": {},
   "cell_type": "markdown",
   "metadata": {},
   "source": [
    "### Python Program to Make a Simple Calculator"
   ]
  },
  {
   "cell_type": "code",
   "execution_count": 49,
   "metadata": {},
   "outputs": [
    {
     "name": "stdout",
     "output_type": "stream",
     "text": [
      "5.0 + 3.0 = 8.0\n"
     ]
    }
   ],
   "source": [
    "\n",
    "num1 = float(input(\"Enter first number: \"))\n",
    "num2 = float(input(\"Enter second number: \"))\n",
    "\n",
    "# take input for the operator\n",
    "operator = input(\"Enter operator (+, -, *, /): \")\n",
    "\n",
    "if operator == \"+\":\n",
    "    result = num1 + num2\n",
    "elif operator == \"-\":\n",
    "    result = num1 - num2\n",
    "elif operator == \"*\":\n",
    "    result = num1 * num2\n",
    "elif operator == \"/\":\n",
    "    result = num1 / num2\n",
    "else:\n",
    "    print(\"Invalid operator\")\n",
    "\n",
    "print(num1, operator, num2, \"=\", result)\n"
   ]
  },
  {
   "cell_type": "code",
   "execution_count": 50,
   "metadata": {},
   "outputs": [
    {
     "name": "stdout",
     "output_type": "stream",
     "text": [
      "8\n",
      "8\n",
      "28\n",
      "4.0\n"
     ]
    }
   ],
   "source": [
    "def calculator(operation, num1, num2):\n",
    "    \"\"\"Perform a calculation based on the operation and two numbers.\"\"\"\n",
    "    if operation == '+':\n",
    "        result = num1 + num2\n",
    "    elif operation == '-':\n",
    "        result = num1 - num2\n",
    "    elif operation == '*':\n",
    "        result = num1 * num2\n",
    "    elif operation == '/':\n",
    "        result = num1 / num2\n",
    "    else:\n",
    "        print(\"Invalid operation.\")\n",
    "        return\n",
    "\n",
    "    return result\n",
    "\n",
    "\n",
    "result = calculator('+', 5, 3)  # Adds the numbers 5 and 3\n",
    "print(result)  # Prints 8\n",
    "\n",
    "result = calculator('-', 10, 2)  # Subtracts the number 2 from 10\n",
    "print(result)  # Prints 8\n",
    "\n",
    "result = calculator('*', 4, 7)  # Multiplies the numbers 4 and 7\n",
    "print(result)  # Prints 28\n",
    "\n",
    "result = calculator('/', 16, 4)  # Divides the number 16 by 4\n",
    "print(result) # Prints 4.0\n"
   ]
  },
  {
   "attachments": {},
   "cell_type": "markdown",
   "metadata": {},
   "source": [
    "### .Python Program to Add Two Matrices"
   ]
  },
  {
   "cell_type": "code",
   "execution_count": 51,
   "metadata": {},
   "outputs": [
    {
     "name": "stdout",
     "output_type": "stream",
     "text": [
      "Enter the elements of the first matrix:\n",
      "Enter the elements of the second matrix:\n",
      "The sum of the two matrices is:\n",
      "[35.0, 77.0]\n",
      "[121.0, 79.0]\n",
      "[143.0, 132.0]\n"
     ]
    }
   ],
   "source": [
    "# take input from the user for the dimensions of the matrices\n",
    "rows = int(input(\"Enter the number of rows: \"))\n",
    "cols = int(input(\"Enter the number of columns: \"))\n",
    "\n",
    "# create empty matrices for the two input matrices\n",
    "matrix1 = []\n",
    "matrix2 = []\n",
    "\n",
    "# take input for the first matrix\n",
    "print(\"Enter the elements of the first matrix:\")\n",
    "for i in range(rows):\n",
    "    row = []\n",
    "    for j in range(cols):\n",
    "        element = float(input(\"Enter element [\" + str(i+1) + \"][\" + str(j+1) + \"]: \"))\n",
    "        row.append(element)\n",
    "    matrix1.append(row)\n",
    "\n",
    "# take input for the second matrix\n",
    "print(\"Enter the elements of the second matrix:\")\n",
    "for i in range(rows):\n",
    "    row = []\n",
    "    for j in range(cols):\n",
    "        element = float(input(\"Enter element [\" + str(i+1) + \"][\" + str(j+1) + \"]: \"))\n",
    "        row.append(element)\n",
    "    matrix2.append(row)\n",
    "\n",
    "# create an empty matrix to store the sum of the two input matrices\n",
    "sum_matrix = []\n",
    "\n",
    "# add the two matrices element-wise and store the result in the sum matrix\n",
    "for i in range(rows):\n",
    "    row = []\n",
    "    for j in range(cols):\n",
    "        element = matrix1[i][j] + matrix2[i][j]\n",
    "        row.append(element)\n",
    "    sum_matrix.append(row)\n",
    "\n",
    "# print the sum matrix\n",
    "print(\"The sum of the two matrices is:\")\n",
    "for row in sum_matrix:\n",
    "    print(row)\n"
   ]
  },
  {
   "cell_type": "code",
   "execution_count": 52,
   "metadata": {},
   "outputs": [
    {
     "name": "stdout",
     "output_type": "stream",
     "text": [
      "[[6, 8], [10, 12]]\n"
     ]
    }
   ],
   "source": [
    "def add_matrices(matrix1, matrix2):\n",
    "    \"\"\"Add two matrices of the same size.\"\"\"\n",
    "    # Ensure that both matrices have the same shape\n",
    "    if len(matrix1) != len(matrix2) or len(matrix1[0]) != len(matrix2[0]):\n",
    "        print(\"Error: Matrices must have the same shape.\")\n",
    "        return None\n",
    "\n",
    "    # Initialize an empty result matrix\n",
    "    result = [[0 for j in range(len(matrix1[0]))] for i in range(len(matrix1))]\n",
    "\n",
    "    # Add corresponding elements of the two matrices\n",
    "    for i in range(len(matrix1)):\n",
    "        for j in range(len(matrix1[0])):\n",
    "            result[i][j] = matrix1[i][j] + matrix2[i][j]\n",
    "\n",
    "    return result\n",
    "\n",
    "matrix1 = [[1, 2], [3, 4]]\n",
    "matrix2 = [[5, 6], [7, 8]]\n",
    "\n",
    "result = add_matrices(matrix1, matrix2)  # Adds the two matrices\n",
    "print(result)  # Prints [[6, 8], [10, 12]]\n"
   ]
  },
  {
   "attachments": {},
   "cell_type": "markdown",
   "metadata": {},
   "source": [
    "### Python Program to Transpose a Matrix\n"
   ]
  },
  {
   "cell_type": "code",
   "execution_count": null,
   "metadata": {},
   "outputs": [],
   "source": [
    "# take input from the user for the dimensions of the matrix\n",
    "rows = int(input(\"Enter the number of rows: \"))\n",
    "cols = int(input(\"Enter the number of columns: \"))\n",
    "\n",
    "# create an empty matrix\n",
    "matrix = []\n",
    "\n",
    "# take input for the matrix\n",
    "print(\"Enter the elements of the matrix:\")\n",
    "for i in range(rows):\n",
    "    row = []\n",
    "    for j in range(cols):\n",
    "        element = float(input(\"Enter element [\" + str(i+1) + \"][\" + str(j+1) + \"]: \"))\n",
    "        row.append(element)\n",
    "    matrix.append(row)\n",
    "\n",
    "# create an empty matrix to store the transpose of the input matrix\n",
    "transpose_matrix = []\n",
    "\n",
    "# calculate the transpose of the input matrix and store it in the transpose matrix\n",
    "for j in range(cols):\n",
    "    row = []\n",
    "    for i in range(rows):\n",
    "        element = matrix[i][j]\n",
    "        row.append(element)\n",
    "    transpose_matrix.append(row)\n",
    "\n",
    "# print the transpose matrix\n",
    "print(\"The transpose of the matrix is:\")\n",
    "for row in transpose_matrix:\n",
    "    print(row)\n"
   ]
  },
  {
   "cell_type": "code",
   "execution_count": 53,
   "metadata": {},
   "outputs": [
    {
     "name": "stdout",
     "output_type": "stream",
     "text": [
      "[[1, 4, 7], [2, 5, 8], [3, 6, 9]]\n"
     ]
    }
   ],
   "source": [
    "def transpose_matrix(matrix):\n",
    "    \"\"\"Return the transpose of a matrix.\"\"\"\n",
    "    # Initialize an empty result matrix with switched dimensions\n",
    "    result = [[0 for j in range(len(matrix))] for i in range(len(matrix[0]))]\n",
    "\n",
    "    # Fill in the result matrix by transposing the input matrix\n",
    "    for i in range(len(matrix)):\n",
    "        for j in range(len(matrix[0])):\n",
    "            result[j][i] = matrix[i][j]\n",
    "\n",
    "    return result\n",
    "\n",
    "# Example usage:\n",
    "matrix = [[1, 2, 3], [4, 5, 6], [7, 8, 9]]\n",
    "\n",
    "result = transpose_matrix(matrix)  # Transposes the matrix\n",
    "print(result)  # Prints [[1, 4, 7], [2, 5, 8], [3, 6, 9]]"
   ]
  }
 ],
 "metadata": {
  "kernelspec": {
   "display_name": "Python 3",
   "language": "python",
   "name": "python3"
  },
  "language_info": {
   "codemirror_mode": {
    "name": "ipython",
    "version": 3
   },
   "file_extension": ".py",
   "mimetype": "text/x-python",
   "name": "python",
   "nbconvert_exporter": "python",
   "pygments_lexer": "ipython3",
   "version": "3.11.2"
  },
  "orig_nbformat": 4
 },
 "nbformat": 4,
 "nbformat_minor": 2
}
