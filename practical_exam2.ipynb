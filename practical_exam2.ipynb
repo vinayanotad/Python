{
 "cells": [
  {
   "cell_type": "code",
   "execution_count": 3,
   "metadata": {},
   "outputs": [
    {
     "name": "stdout",
     "output_type": "stream",
     "text": [
      "[10000, 4096, 16, 81, 625]\n"
     ]
    }
   ],
   "source": [
    "numbers = [100,64,4,9,25]\n",
    "squared_numbers = list(map(lambda x:x**2,numbers))   #map() function applies the lambda exp to each element in the numbers\n",
    "\n",
    "print(squared_numbers)"
   ]
  },
  {
   "cell_type": "code",
   "execution_count": 5,
   "metadata": {},
   "outputs": [
    {
     "name": "stdout",
     "output_type": "stream",
     "text": [
      "[100, 64, 4]\n"
     ]
    }
   ],
   "source": [
    "import csv \n",
    "with open('numbers.csv','r') as file:\n",
    "    reader = csv.reader(file)\n",
    "    \n",
    "even_numbers = [num for num in numbers if num%2==0]\n",
    "print(even_numbers)    \n",
    "    \n",
    "    "
   ]
  },
  {
   "cell_type": "code",
   "execution_count": 15,
   "metadata": {},
   "outputs": [
    {
     "name": "stdout",
     "output_type": "stream",
     "text": [
      "<bound method Employee.cal_annual_salary of <__main__.Employee object at 0x0000019F22EC77D0>>\n"
     ]
    }
   ],
   "source": [
    "class Employee ():\n",
    "    name = \" \"\n",
    "    positin = \" \"\n",
    "    salary = 0\n",
    "    \n",
    "    def __init__ (self,name,position,salary):\n",
    "        self.name = name\n",
    "        self.position = position\n",
    "        self.salary = salary\n",
    "        \n",
    "    def cal_annual_salary(self):\n",
    "        print(self.salary * 12)\n",
    "\n",
    "obj = Employee(\"Vinaya\",\"HR\",500000)\n",
    "salary = obj.cal_annual_salary\n",
    "\n",
    "print(salary)    \n",
    "        "
   ]
  }
 ],
 "metadata": {
  "kernelspec": {
   "display_name": "Python 3",
   "language": "python",
   "name": "python3"
  },
  "language_info": {
   "codemirror_mode": {
    "name": "ipython",
    "version": 3
   },
   "file_extension": ".py",
   "mimetype": "text/x-python",
   "name": "python",
   "nbconvert_exporter": "python",
   "pygments_lexer": "ipython3",
   "version": "3.11.2"
  },
  "orig_nbformat": 4
 },
 "nbformat": 4,
 "nbformat_minor": 2
}
