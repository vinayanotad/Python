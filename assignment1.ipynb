{
 "cells": [
  {
   "attachments": {},
   "cell_type": "markdown",
   "metadata": {},
   "source": [
    "\n",
    "**$$\n",
    "Write a program to find the eldest among three persons age received from the user\n",
    "$$\n",
    "**"
   ]
  },
  {
   "cell_type": "code",
   "execution_count": 2,
   "metadata": {},
   "outputs": [
    {
     "name": "stdout",
     "output_type": "stream",
     "text": [
      "The eldest age is: 34\n"
     ]
    }
   ],
   "source": [
    "\n",
    "age1 = int(input(\"Enter the age of the first person: \"))\n",
    "age2 = int(input(\"Enter the age of the second person: \"))\n",
    "age3 = int(input(\"Enter the age of the third person: \"))\n",
    "\n",
    "# Find the eldest age using conditional statements\n",
    "if age1 > age2 and age1 > age3:\n",
    "    eldest = age1\n",
    "elif age2 > age1 and age2 > age3:\n",
    "    eldest = age2\n",
    "else:\n",
    "    eldest = age3\n",
    "\n",
    "print(\"The eldest age is:\", eldest)\n"
   ]
  },
  {
   "attachments": {},
   "cell_type": "markdown",
   "metadata": {},
   "source": [
    "**Write a program to check the number record from the user is positive or negative**"
   ]
  },
  {
   "cell_type": "code",
   "execution_count": 3,
   "metadata": {},
   "outputs": [
    {
     "name": "stdout",
     "output_type": "stream",
     "text": [
      "The number is positive\n"
     ]
    }
   ],
   "source": [
    "num = float(input(\"Enter a number: \"))\n",
    "\n",
    "# Check if the number is positive or negative\n",
    "if num > 0:\n",
    "    print(\"The number is positive\")\n",
    "elif num < 0:\n",
    "    print(\"The number is negative\")\n",
    "else:\n",
    "    print(\"The number is zero\")"
   ]
  },
  {
   "attachments": {},
   "cell_type": "markdown",
   "metadata": {},
   "source": [
    "*Write a program to accept two numbers & mathematical operator and perform operations accordingly.*\n"
   ]
  },
  {
   "cell_type": "code",
   "execution_count": 4,
   "metadata": {},
   "outputs": [
    {
     "name": "stdout",
     "output_type": "stream",
     "text": [
      "23.0 + 21.0 = 44.0\n"
     ]
    }
   ],
   "source": [
    "num1 = float(input(\"Enter the first number: \"))\n",
    "num2 = float(input(\"Enter the second number: \"))\n",
    "op = input(\"Enter the mathematical operator (+, -, *, /): \")\n",
    "\n",
    "# Perform the corresponding operation\n",
    "if op == '+':\n",
    "    result = num1 + num2\n",
    "elif op == '-':\n",
    "    result = num1 - num2\n",
    "elif op == '*':\n",
    "    result = num1 * num2\n",
    "elif op == '/':\n",
    "    result = num1 / num2\n",
    "else:\n",
    "    print(\"Invalid operator entered.\")\n",
    "    exit()\n",
    "\n",
    "# Print the result\n",
    "print(f\"{num1} {op} {num2} = {result}\")"
   ]
  },
  {
   "attachments": {},
   "cell_type": "markdown",
   "metadata": {},
   "source": [
    " *Write a program to check if the given number is prime or not.\n",
    "*"
   ]
  },
  {
   "cell_type": "code",
   "execution_count": 5,
   "metadata": {},
   "outputs": [
    {
     "name": "stdout",
     "output_type": "stream",
     "text": [
      "21 is not a prime number\n"
     ]
    }
   ],
   "source": [
    "num = int(input(\"Enter a number: \"))\n",
    "\n",
    "# Check if the number is prime\n",
    "if num > 1:\n",
    "    # Iterate over all possible factors of the number\n",
    "    for i in range(2, num):\n",
    "        if num % i == 0:\n",
    "            print(f\"{num} is not a prime number\")\n",
    "            break\n",
    "    else:\n",
    "        print(f\"{num} is a prime number\")\n",
    "else:\n",
    "    print(f\"{num} is not a prime number\")"
   ]
  },
  {
   "attachments": {},
   "cell_type": "markdown",
   "metadata": {},
   "source": [
    "**Write a program if You have written an exam for a total score of 100 and if your score is above or equal to 60 then you will be considered as PASS in the exam.**\n"
   ]
  },
  {
   "cell_type": "code",
   "execution_count": 6,
   "metadata": {},
   "outputs": [
    {
     "name": "stdout",
     "output_type": "stream",
     "text": [
      "Sorry, you have not passed the exam.\n"
     ]
    }
   ],
   "source": [
    "score = int(input(\"Enter your exam score: \"))\n",
    "\n",
    "# Check if the score is above or equal to 60\n",
    "if score >= 60:\n",
    "    print(\"Congratulations! You have passed the exam.\")\n",
    "else:\n",
    "    print(\"Sorry, you have not passed the exam.\")"
   ]
  },
  {
   "attachments": {},
   "cell_type": "markdown",
   "metadata": {},
   "source": [
    "python program to check url in a string"
   ]
  },
  {
   "cell_type": "code",
   "execution_count": null,
   "metadata": {},
   "outputs": [],
   "source": [
    "# Import the re module\n",
    "import re\n",
    "\n",
    "# Define the string to check\n",
    "my_string = \"The quick brown fox jumps over the https://www.example.com/ lazy dog.\"\n",
    "\n",
    "# Define the regular expression to match a URL\n",
    "url_regex = r'http[s]?://(?:[a-zA-Z]|[0-9]|[$-_@.&+]|[!*\\(\\),]|(?:%[0-9a-fA-F][0-9a-fA-F]))+'\n",
    "\n",
    "# Use the re.search() function to find a match for the regular expression in the string\n",
    "match = re.search(url_regex, my_string)\n",
    "\n",
    "# Check if a match was found and print the result\n",
    "if match:\n",
    "    print(\"URL found:\", match.group())\n",
    "else:\n",
    "    print(\"No URL found.\")\n"
   ]
  }
 ],
 "metadata": {
  "kernelspec": {
   "display_name": "Python 3",
   "language": "python",
   "name": "python3"
  },
  "language_info": {
   "codemirror_mode": {
    "name": "ipython",
    "version": 3
   },
   "file_extension": ".py",
   "mimetype": "text/x-python",
   "name": "python",
   "nbconvert_exporter": "python",
   "pygments_lexer": "ipython3",
   "version": "3.11.2"
  },
  "orig_nbformat": 4
 },
 "nbformat": 4,
 "nbformat_minor": 2
}
