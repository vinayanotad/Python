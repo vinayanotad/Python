{
 "cells": [
  {
   "cell_type": "code",
   "execution_count": 1,
   "metadata": {},
   "outputs": [
    {
     "name": "stdout",
     "output_type": "stream",
     "text": [
      "Given number is ODD\n"
     ]
    }
   ],
   "source": [
    "n= int(input(\"Enter the Number:\"))\n",
    "if n%2==0:\n",
    "    print(\"Given number is EVEN\")\n",
    "else:\n",
    "    print(\"Given number is ODD\")    \n"
   ]
  },
  {
   "cell_type": "code",
   "execution_count": 2,
   "metadata": {},
   "outputs": [
    {
     "name": "stdout",
     "output_type": "stream",
     "text": [
      "{'a': 1, 'b': 2, 'c': 3}\n"
     ]
    }
   ],
   "source": [
    "keys = ['a','b','c']\n",
    "values = [1,2,3]\n",
    "merged_dict = dict(zip(keys,values))\n",
    "print(merged_dict)"
   ]
  },
  {
   "cell_type": "code",
   "execution_count": 3,
   "metadata": {},
   "outputs": [
    {
     "name": "stdout",
     "output_type": "stream",
     "text": [
      "simple interest is 2250.0\n"
     ]
    }
   ],
   "source": [
    "def simple_interest(principal,rate,time):\n",
    "    interest =(principal*time*rate)/100\n",
    "    return interest\n",
    "principal = float(input(\"Enter the Principal:\"))\n",
    "rate = float(input(\"Enter the rtae of interest:\"))\n",
    "time = int(input (\"Enter the Time period:\"))\n",
    "\n",
    "interest = simple_interest(principal,rate,time)\n",
    "print(\"simple interest is\",interest)"
   ]
  },
  {
   "cell_type": "code",
   "execution_count": 4,
   "metadata": {},
   "outputs": [
    {
     "name": "stdout",
     "output_type": "stream",
     "text": [
      "The largest of three numbers is 45\n"
     ]
    }
   ],
   "source": [
    "num1=int(input(\"Enter the number1:\"))\n",
    "num2=int(input(\"Enter the number2:\"))\n",
    "num3=int(input(\"Enter the number3:\"))\n",
    "\n",
    "if num1>num2 and num1>num3:\n",
    "    largest = num1\n",
    "elif num2>num1 and num2>num3:\n",
    "    largest = num2\n",
    "else:\n",
    "    largest = num3\n",
    "    \n",
    "print(\"The largest of three numbers is\",largest)               "
   ]
  },
  {
   "cell_type": "code",
   "execution_count": 13,
   "metadata": {},
   "outputs": [
    {
     "name": "stdout",
     "output_type": "stream",
     "text": [
      "Entered number is not prime\n"
     ]
    }
   ],
   "source": [
    "num = int(input(\"Enter the number\"))\n",
    "if num>1:\n",
    "    for i in range(2,num):\n",
    "        if num%i==0:\n",
    "            print(\"Entered number is not prime\")\n",
    "            break\n",
    "    else:\n",
    "            print(\"Entered number is prime\")\n",
    "            \n",
    "else:\n",
    "    print(\"Entered number is not prime\")  \n",
    "                  "
   ]
  },
  {
   "cell_type": "code",
   "execution_count": 17,
   "metadata": {},
   "outputs": [
    {
     "name": "stdout",
     "output_type": "stream",
     "text": [
      "1\n",
      "3\n",
      "5\n",
      "9\n",
      "11\n",
      "13\n",
      "15\n"
     ]
    }
   ],
   "source": [
    "my_list = [1,2,3,4,5,9,11,6,12,13,15]\n",
    "for num in my_list:\n",
    "    if num%2 == 1:\n",
    "        print(num)"
   ]
  }
 ],
 "metadata": {
  "kernelspec": {
   "display_name": "Python 3",
   "language": "python",
   "name": "python3"
  },
  "language_info": {
   "codemirror_mode": {
    "name": "ipython",
    "version": 3
   },
   "file_extension": ".py",
   "mimetype": "text/x-python",
   "name": "python",
   "nbconvert_exporter": "python",
   "pygments_lexer": "ipython3",
   "version": "3.11.2"
  },
  "orig_nbformat": 4
 },
 "nbformat": 4,
 "nbformat_minor": 2
}
